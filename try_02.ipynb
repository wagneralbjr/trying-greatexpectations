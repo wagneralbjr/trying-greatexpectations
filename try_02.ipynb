{
 "cells": [
  {
   "cell_type": "code",
   "execution_count": 1,
   "id": "960791e4",
   "metadata": {},
   "outputs": [],
   "source": [
    "import datetime\n",
    "from pyspark.sql import SparkSession, DataFrame\n",
    "import os\n",
    "import json\n",
    "\n",
    "from great_expectations.core.batch import RuntimeBatchRequest\n",
    "from great_expectations.profile.json_schema_profiler import JsonSchemaProfiler\n",
    "from great_expectations.data_context import BaseDataContext\n",
    "from great_expectations.data_context.types.base import (\n",
    "    DataContextConfig,\n",
    "    FilesystemStoreBackendDefaults,\n",
    ")\n"
   ]
  },
  {
   "cell_type": "code",
   "execution_count": 2,
   "id": "de4ece1d",
   "metadata": {},
   "outputs": [],
   "source": [
    "def main(root_directory: str = \"/dbfs/great_expectations/\") -> None:\n",
    "    spark = SparkSession.builder.appName('TestGreatExpectations').enableHiveSupport().getOrCreate()\n",
    "    df = spark.read.format(\"csv\")\\\n",
    "        .option(\"header\", \"true\")\\\n",
    "        .option(\"inferSchema\", \"true\")\\\n",
    "        .load(\"s3a://confessions-of-a-data-guy/*divvy-tripdata.csv\")"
   ]
  },
  {
   "cell_type": "code",
   "execution_count": 3,
   "id": "7c53ce6e",
   "metadata": {},
   "outputs": [],
   "source": [
    "def prepare_ge_context(root_dir: str) -> BaseDataContext:\n",
    "    data_context_config = DataContextConfig(\n",
    "        store_backend_defaults=FilesystemStoreBackendDefaults(\n",
    "            root_directory=root_dir\n",
    "        ),\n",
    "    )\n",
    "    ge_context = BaseDataContext(project_config=data_context_config)\n",
    "    return ge_context"
   ]
  },
  {
   "cell_type": "code",
   "execution_count": 6,
   "id": "892171c7",
   "metadata": {},
   "outputs": [],
   "source": [
    "def prepare_get_datasource(dname: str = 'DataFrame_Trips_Source') -> dict:\n",
    "    ge_dataframe_datasource = {\n",
    "        \"name\": dname,\n",
    "        \"class_name\": \"Datasource\",\n",
    "        \"execution_engine\": {\"class_name\": \"SparkDFExecutionEngine\"},\n",
    "        \"data_connectors\": {\n",
    "            \"DataFrame_Trips_Data_Connector\": {\n",
    "                \"module_name\": \"great_expectations.datasource.data_connector\",\n",
    "                \"class_name\": \"RuntimeDataConnector\",\n",
    "                \"batch_identifiers\": [\n",
    "                    \"trips_source\",\n",
    "                    \"divvy_bike_trips\",\n",
    "                ],\n",
    "            }\n",
    "        },\n",
    "    }\n",
    "    return ge_dataframe_datasource"
   ]
  },
  {
   "cell_type": "code",
   "execution_count": 4,
   "id": "4c4824fe",
   "metadata": {},
   "outputs": [],
   "source": [
    "root_directory = os.path.join ( os.getcwd() , \"great_exp\") "
   ]
  },
  {
   "cell_type": "code",
   "execution_count": 5,
   "id": "c3eaa421",
   "metadata": {},
   "outputs": [],
   "source": [
    "ge_context = prepare_ge_context(root_directory)"
   ]
  },
  {
   "cell_type": "code",
   "execution_count": 7,
   "id": "e36efc97",
   "metadata": {},
   "outputs": [
    {
     "name": "stdout",
     "output_type": "stream",
     "text": [
      "22/12/15 15:25:51 WARN Utils: Your hostname, wagner-desktop resolves to a loopback address: 127.0.1.1; using 192.168.0.12 instead (on interface enp5s0)\n",
      "22/12/15 15:25:51 WARN Utils: Set SPARK_LOCAL_IP if you need to bind to another address\n"
     ]
    },
    {
     "name": "stderr",
     "output_type": "stream",
     "text": [
      "Setting default log level to \"WARN\".\n",
      "To adjust logging level use sc.setLogLevel(newLevel). For SparkR, use setLogLevel(newLevel).\n"
     ]
    },
    {
     "name": "stdout",
     "output_type": "stream",
     "text": [
      "22/12/15 15:25:51 WARN NativeCodeLoader: Unable to load native-hadoop library for your platform... using builtin-java classes where applicable\n"
     ]
    },
    {
     "data": {
      "text/plain": [
       "<great_expectations.datasource.new_datasource.Datasource at 0x7fa52528a980>"
      ]
     },
     "execution_count": 7,
     "metadata": {},
     "output_type": "execute_result"
    }
   ],
   "source": [
    "ge_context.add_datasource(**prepare_get_datasource())"
   ]
  },
  {
   "cell_type": "code",
   "execution_count": 8,
   "id": "0d5936e8",
   "metadata": {},
   "outputs": [],
   "source": [
    "def prepare_checkpoint() -> dict:\n",
    "    ge_trip_data_checkpoint = \"trip_check\"\n",
    "    checkpoint_config = {\n",
    "        \"name\": ge_trip_data_checkpoint,\n",
    "        \"config_version\": 1.0,\n",
    "        \"class_name\": \"SimpleCheckpoint\",\n",
    "        \"run_name_template\": \"%Y%m%d-%H%M%S-trip-run\",\n",
    "    }\n",
    "    return checkpoint_config"
   ]
  },
  {
   "cell_type": "code",
   "execution_count": 9,
   "id": "ed9859c8",
   "metadata": {},
   "outputs": [
    {
     "data": {
      "text/plain": [
       "{\n",
       "  \"action_list\": [\n",
       "    {\n",
       "      \"name\": \"store_validation_result\",\n",
       "      \"action\": {\n",
       "        \"class_name\": \"StoreValidationResultAction\"\n",
       "      }\n",
       "    },\n",
       "    {\n",
       "      \"name\": \"store_evaluation_params\",\n",
       "      \"action\": {\n",
       "        \"class_name\": \"StoreEvaluationParametersAction\"\n",
       "      }\n",
       "    },\n",
       "    {\n",
       "      \"name\": \"update_data_docs\",\n",
       "      \"action\": {\n",
       "        \"class_name\": \"UpdateDataDocsAction\",\n",
       "        \"site_names\": []\n",
       "      }\n",
       "    }\n",
       "  ],\n",
       "  \"batch_request\": {},\n",
       "  \"class_name\": \"Checkpoint\",\n",
       "  \"config_version\": 1.0,\n",
       "  \"evaluation_parameters\": {},\n",
       "  \"module_name\": \"great_expectations.checkpoint\",\n",
       "  \"name\": \"trip_check\",\n",
       "  \"profilers\": [],\n",
       "  \"run_name_template\": \"%Y%m%d-%H%M%S-trip-run\",\n",
       "  \"runtime_configuration\": {},\n",
       "  \"validations\": []\n",
       "}"
      ]
     },
     "execution_count": 9,
     "metadata": {},
     "output_type": "execute_result"
    }
   ],
   "source": [
    "trips_check = prepare_checkpoint()\n",
    "ge_context.add_checkpoint(**trips_check)\n"
   ]
  },
  {
   "cell_type": "code",
   "execution_count": 10,
   "id": "962007bf",
   "metadata": {},
   "outputs": [],
   "source": [
    "trips_expect = {\n",
    "  \"properties\": {},\n",
    "  \"type\": 'object',\n",
    "  \"data_asset_type\": '',\n",
    "  \"expectation_suite_name\": \"bikes\",\n",
    "  \"expectations\": [\n",
    "    {\n",
    "      \"expectation_type\": \"expect_table_columns_to_match_ordered_list\",\n",
    "      \"kwargs\": {\n",
    "        \"column_list\": [\n",
    "          \"ride_id\", \"rideable_type\", \"started_at\", \"ended_at\", \"start_station_name\", \"start_station_id\",\n",
    "            \"end_station_name\", \"end_station_id\", \"start_lat\", \"start_lng\", \"end_lat\", \"end_lng\", \"member_casual\"\n",
    "        ]\n",
    "      },\n",
    "      \"meta\": {}\n",
    "    },\n",
    "    {\n",
    "      \"expectation_type\": \"expect_table_row_count_to_be_between\",\n",
    "      \"kwargs\": {\n",
    "        \"max_value\": 1000000,\n",
    "        \"min_value\": 1000\n",
    "      },\n",
    "      \"meta\": {}\n",
    "    }\n",
    "  ],\n",
    "  \"ge_cloud_id\": '',\n",
    "  \"meta\": {\n",
    "    \"citations\": [\n",
    "      {\n",
    "        \"batch_request\": {\n",
    "          \"data_asset_name\": \"trip_data_batch\",\n",
    "          \"data_connector_name\": \"DataFrame_Trips_Data_Connector\",\n",
    "          \"datasource_name\": \"DataFrame_Trips_Source\",\n",
    "          \"limit\": 1000\n",
    "        },\n",
    "        \"citation_date\": \"2022-06-02\",\n",
    "        \"comment\": \"Created suite \"\n",
    "      }\n",
    "    ],\n",
    "    \"great_expectations_version\": \"0.14.10\"\n",
    "  }\n",
    "}"
   ]
  },
  {
   "cell_type": "code",
   "execution_count": 11,
   "id": "c1c213e4",
   "metadata": {},
   "outputs": [],
   "source": [
    "# create and save expectation suite\n",
    "profiler = JsonSchemaProfiler()\n",
    "suite = profiler.profile(trips_expect, \"bikes\")\n",
    "ge_context.save_expectation_suite(suite)"
   ]
  },
  {
   "cell_type": "code",
   "execution_count": 13,
   "id": "b40985ac",
   "metadata": {},
   "outputs": [],
   "source": [
    "def prepare_runtime_batch(df: DataFrame):\n",
    "    batch_request = RuntimeBatchRequest(\n",
    "        datasource_name=\"DataFrame_Trips_Source\",\n",
    "        data_connector_name=\"DataFrame_Trips_Data_Connector\",\n",
    "        data_asset_name=\"trip_data_batch\",  # This can be anything that identifies this data_asset for you\n",
    "        batch_identifiers={\n",
    "            \"trips_source\": \"trips_source\",\n",
    "            \"divvy_bike_trips\": \"divvy_bike_trips\",\n",
    "        },\n",
    "        runtime_parameters={\"batch_data\": df},  # Your dataframe goes here\n",
    "    )\n",
    "    return batch_request\n",
    "\n",
    "\n",
    "def run_checkpoint(context, batch_request):\n",
    "    checkpoint_result = context.run_checkpoint(\n",
    "        checkpoint_name=\"trip_check\",\n",
    "        validations=[\n",
    "            {\n",
    "                \"batch_request\": batch_request,\n",
    "                \"expectation_suite_name\": \"bikes\",\n",
    "            }\n",
    "        ],\n",
    "    )\n",
    "    return checkpoint_result"
   ]
  },
  {
   "cell_type": "code",
   "execution_count": null,
   "id": "0fd6bd58",
   "metadata": {},
   "outputs": [],
   "source": [
    "# Prepare Batch and Validate\n",
    "trips_batch_request = prepare_runtime_batch(df)\n",
    "validation_results = run_checkpoint(ge_context, trips_batch_request)\n",
    "print(validation_results)"
   ]
  }
 ],
 "metadata": {
  "kernelspec": {
   "display_name": "Python 3.10.6 ('venv': venv)",
   "language": "python",
   "name": "python3"
  },
  "language_info": {
   "codemirror_mode": {
    "name": "ipython",
    "version": 3
   },
   "file_extension": ".py",
   "mimetype": "text/x-python",
   "name": "python",
   "nbconvert_exporter": "python",
   "pygments_lexer": "ipython3",
   "version": "3.10.6"
  },
  "vscode": {
   "interpreter": {
    "hash": "35abb55253993c9cf0e34d35cce41d8db69a85737a423fe5cb07b1873bc325f5"
   }
  }
 },
 "nbformat": 4,
 "nbformat_minor": 5
}
